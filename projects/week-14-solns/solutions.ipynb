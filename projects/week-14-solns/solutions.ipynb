{
 "cells": [
  {
   "cell_type": "markdown",
   "id": "cc702551-5d34-4884-a991-be34310b0afb",
   "metadata": {
    "collapsed": false
   },
   "source": [
    "# Exercise 1\n",
    "\n",
    "Unique Paths; what is the simplest possible method you can think of to\n",
    "solve this?"
   ]
  },
  {
   "cell_type": "code",
   "execution_count": 1,
   "id": "01bac00f-dc23-457f-a5ee-60215edf7cb9",
   "metadata": {
    "collapsed": false
   },
   "outputs": [],
   "source": [
    "def naive_method(x, y, r, c):\n",
    "    if x == r - 1 and y == c - 1:\n",
    "        return 1\n",
    "\n",
    "    if x >= r or y >= c:\n",
    "        return 0\n",
    "\n",
    "    return naive_method(x + 1, y, r, c) + naive_method(x, y + 1, r, c)"
   ]
  },
  {
   "cell_type": "code",
   "execution_count": 2,
   "id": "a49d19e0-9bac-416d-a608-1f86052d112c",
   "metadata": {
    "collapsed": false
   },
   "outputs": [
    {
     "data": {
      "text/plain": [
       "2"
      ]
     },
     "execution_count": 2,
     "metadata": {},
     "output_type": "execute_result"
    }
   ],
   "source": [
    "naive_method(0, 0, 2, 2)"
   ]
  },
  {
   "cell_type": "code",
   "execution_count": 3,
   "id": "b5700004-86d0-4900-81cb-4bebe2e39dc1",
   "metadata": {
    "collapsed": false
   },
   "outputs": [
    {
     "data": {
      "text/plain": [
       "6"
      ]
     },
     "execution_count": 3,
     "metadata": {},
     "output_type": "execute_result"
    }
   ],
   "source": [
    "naive_method(0, 0, 3, 3)"
   ]
  },
  {
   "cell_type": "markdown",
   "id": "7b4aeab1-ff68-415d-aec0-88f15bc062bb",
   "metadata": {
    "collapsed": false
   },
   "source": [
    "Is there a smarter method?\n",
    "\n",
    "Hint: Think Mathematics"
   ]
  },
  {
   "cell_type": "code",
   "execution_count": 4,
   "id": "38b4f81c-bff5-4c8e-909e-b60fc09759bd",
   "metadata": {
    "collapsed": false
   },
   "outputs": [],
   "source": [
    "import math\n",
    "\n",
    "def smarter_method(r, c):\n",
    "    total = (r - 1) + (c - 1)\n",
    "    minimum = min((r - 1), (c - 1))\n",
    "    a = math.factorial(total)\n",
    "    b = math.factorial(total - minimum) * math.factorial(minimum)\n",
    "    return int(a / b)"
   ]
  },
  {
   "cell_type": "code",
   "execution_count": 5,
   "id": "c0cb1aae-6077-4043-969d-5ae6d6538a93",
   "metadata": {
    "collapsed": false
   },
   "outputs": [
    {
     "data": {
      "text/plain": [
       "2"
      ]
     },
     "execution_count": 5,
     "metadata": {},
     "output_type": "execute_result"
    }
   ],
   "source": [
    "smarter_method(2, 2)"
   ]
  },
  {
   "cell_type": "code",
   "execution_count": 6,
   "id": "31d0763d-ea3d-40da-b94d-165a976cc06a",
   "metadata": {
    "collapsed": false
   },
   "outputs": [
    {
     "data": {
      "text/plain": [
       "6"
      ]
     },
     "execution_count": 6,
     "metadata": {},
     "output_type": "execute_result"
    }
   ],
   "source": [
    "smarter_method(3, 3)"
   ]
  },
  {
   "cell_type": "markdown",
   "id": "346ae95e-9619-4e57-98a4-84cbea89208b",
   "metadata": {
    "collapsed": false
   },
   "source": [
    "# Exercise 2\n",
    "\n",
    "Min-cost climbing stairs. Simplest way to do this?"
   ]
  },
  {
   "cell_type": "code",
   "execution_count": 7,
   "id": "378bfa71-a352-4ef6-abf1-83539c571163",
   "metadata": {
    "collapsed": false
   },
   "outputs": [],
   "source": [
    "def naive_method(x, costs):\n",
    "    if x >= len(costs):\n",
    "        return 0\n",
    "    return costs[x] + \\\n",
    "        min(naive_method(x + 1, costs), naive_method(x + 2, costs))"
   ]
  },
  {
   "cell_type": "code",
   "execution_count": 8,
   "id": "2a2ce329-0ee2-4692-b6bf-35d65f18edff",
   "metadata": {
    "collapsed": false
   },
   "outputs": [
    {
     "data": {
      "text/plain": [
       "6"
      ]
     },
     "execution_count": 8,
     "metadata": {},
     "output_type": "execute_result"
    }
   ],
   "source": [
    "naive_method(0, [1, 100, 1, 1, 1, 100, 1, 1, 100, 1])"
   ]
  },
  {
   "cell_type": "code",
   "execution_count": 9,
   "id": "281e4c88-b052-4817-8e4f-bba48e076a8d",
   "metadata": {
    "collapsed": false
   },
   "outputs": [
    {
     "data": {
      "text/plain": [
       "204"
      ]
     },
     "execution_count": 9,
     "metadata": {},
     "output_type": "execute_result"
    }
   ],
   "source": [
    "naive_method(0, [1, 100, 100, 99, 100, 100, 1, 1, 100, 1])"
   ]
  },
  {
   "cell_type": "markdown",
   "id": "0d2bd947-6acc-4c53-baf5-2f1a9efe9403",
   "metadata": {
    "collapsed": false
   },
   "source": [
    "Is there a smarter way to do this?\n",
    "\n",
    "Apply the hint: Think from top to bottom, and bottom to top.\n",
    "\n",
    "This is the Dynamic Programming approach."
   ]
  },
  {
   "cell_type": "code",
   "execution_count": 10,
   "id": "3fc14b63-d2dd-41c2-8a4e-a80713631ec0",
   "metadata": {
    "collapsed": false
   },
   "outputs": [],
   "source": [
    "def smarter_method(costs):\n",
    "    if len(costs) == 2:\n",
    "        return min(costs)\n",
    "    elif len(costs) <= 1:\n",
    "        return 0 # just step over\n",
    "\n",
    "    dp_arr = [0] * len(costs)\n",
    "    dp_arr[0] = costs[0]\n",
    "    dp_arr[1] = costs[1]\n",
    "\n",
    "    for idx, cost in enumerate(costs[2:]):\n",
    "        real_idx = idx + 2\n",
    "        dp_arr[real_idx] = min(dp_arr[real_idx - 2], dp_arr[real_idx - 1]) \\\n",
    "            + cost\n",
    "\n",
    "    return min(dp_arr[-1], dp_arr[-2])"
   ]
  },
  {
   "cell_type": "code",
   "execution_count": 11,
   "id": "6556d626-e952-484b-959f-e01b1aeef5c9",
   "metadata": {
    "collapsed": false
   },
   "outputs": [
    {
     "data": {
      "text/plain": [
       "6"
      ]
     },
     "execution_count": 11,
     "metadata": {},
     "output_type": "execute_result"
    }
   ],
   "source": [
    "smarter_method([1, 100, 1, 1, 1, 100, 1, 1, 100, 1])"
   ]
  },
  {
   "cell_type": "code",
   "execution_count": 12,
   "id": "997f3609-8cf3-4d1c-986b-f2a72e7119db",
   "metadata": {
    "collapsed": false
   },
   "outputs": [
    {
     "data": {
      "text/plain": [
       "204"
      ]
     },
     "execution_count": 12,
     "metadata": {},
     "output_type": "execute_result"
    }
   ],
   "source": [
    "smarter_method([1, 100, 100, 99, 100, 100, 1, 1, 100, 1])"
   ]
  },
  {
   "cell_type": "markdown",
   "id": "9047fe59-a40e-4702-aeb7-a88a42259dcf",
   "metadata": {
    "collapsed": false
   },
   "source": [
    "Really isn't much to this. Implement a reversible binary search:"
   ]
  },
  {
   "cell_type": "code",
   "execution_count": 13,
   "id": "e546c470-020c-4a5d-b65a-80b5f60eac1d",
   "metadata": {
    "collapsed": false
   },
   "outputs": [],
   "source": [
    "def binary_search(target, arr, reversed=False):\n",
    "    lo = 0\n",
    "    hi = len(arr)\n",
    "\n",
    "    while lo < hi:\n",
    "        mid = (lo + hi) // 2\n",
    "        if (not reversed and target < arr[mid]) or \\\n",
    "           (reversed and target > arr[mid]):\n",
    "            hi = mid\n",
    "        elif (not reversed and target > arr[mid]) or \\\n",
    "             (reversed and target < arr[mid]):\n",
    "            lo = mid + 1\n",
    "        else:\n",
    "            return mid\n",
    "\n",
    "    return lo if lo < len(arr) and arr[lo] == target else -1"
   ]
  },
  {
   "cell_type": "markdown",
   "id": "f9602f6c-26a2-49e6-9077-65935fa82e0b",
   "metadata": {
    "collapsed": false
   },
   "source": [
    "Given a Bitonic array, get the maximum element"
   ]
  },
  {
   "cell_type": "code",
   "execution_count": 14,
   "id": "60a208d2-43ed-4c2d-9d0a-e2b92d538bd7",
   "metadata": {
    "collapsed": false
   },
   "outputs": [],
   "source": [
    "def bitonic_get_max(arr):\n",
    "    assert len(arr) > 0\n",
    "    # also assuming bitonic\n",
    "\n",
    "    lo = 0\n",
    "    hi = len(arr)\n",
    "\n",
    "    while lo < hi:\n",
    "        mid = (lo + hi) // 2\n",
    "        if arr[mid - 1] < arr[mid] < arr[mid + 1]:\n",
    "            lo = mid + 1\n",
    "        elif arr[mid - 1] > arr[mid] > arr[mid + 1]:\n",
    "            hi = mid\n",
    "        else:\n",
    "            lo = mid\n",
    "            break\n",
    "\n",
    "    return (lo, arr[lo])"
   ]
  },
  {
   "cell_type": "markdown",
   "id": "ef5bc801-7201-4be4-9f68-83f63b7c4e2c",
   "metadata": {
    "collapsed": false
   },
   "source": [
    "Search piece-wise"
   ]
  },
  {
   "cell_type": "code",
   "execution_count": 15,
   "id": "f5e71384-ab5f-49c1-a21d-b250e3d27d12",
   "metadata": {
    "collapsed": false
   },
   "outputs": [],
   "source": [
    "def bitonic_search(target, arr):\n",
    "    idx, val = bitonic_get_max(arr)\n",
    "    if target > val:\n",
    "        return -1\n",
    "\n",
    "    candidate = binary_search(target, arr[:idx])\n",
    "    if candidate == -1:\n",
    "        candidate = binary_search(target, arr[idx:], True)\n",
    "\n",
    "    return candidate"
   ]
  },
  {
   "cell_type": "code",
   "execution_count": 16,
   "id": "bfea639e-eef6-424a-8bc7-fd73883bf007",
   "metadata": {
    "collapsed": false
   },
   "outputs": [
    {
     "data": {
      "text/plain": [
       "2"
      ]
     },
     "execution_count": 16,
     "metadata": {},
     "output_type": "execute_result"
    }
   ],
   "source": [
    "bitonic_search(9, [2, 4, 6, 8, 10, 12, 11, 9, 7, 5, 3])"
   ]
  },
  {
   "cell_type": "code",
   "execution_count": 17,
   "id": "bb22ec55-d691-4202-ab86-77f9c2fcbe6d",
   "metadata": {
    "collapsed": false
   },
   "outputs": [
    {
     "data": {
      "text/plain": [
       "-1"
      ]
     },
     "execution_count": 17,
     "metadata": {},
     "output_type": "execute_result"
    }
   ],
   "source": [
    "bitonic_search(13, [2, 4, 6, 8, 10, 12, 11, 9, 7, 5, 3])"
   ]
  },
  {
   "cell_type": "code",
   "execution_count": 18,
   "id": "5b8061e1-0137-473f-a8ce-435d56deca35",
   "metadata": {
    "collapsed": false
   },
   "outputs": [
    {
     "data": {
      "text/plain": [
       "-1"
      ]
     },
     "execution_count": 18,
     "metadata": {},
     "output_type": "execute_result"
    }
   ],
   "source": [
    "bitonic_search(1, [2, 4, 6, 8, 10, 12, 11, 9, 7, 5, 3])"
   ]
  }
 ],
 "metadata": {
  "kernelspec": {
   "argv": [
    "python",
    "-m",
    "ipykernel_launcher",
    "-f",
    "{connection_file}"
   ],
   "display_name": "Python 3 (ipykernel)",
   "env": null,
   "interrupt_mode": "signal",
   "language": "python",
   "metadata": {
    "debugger": true
   },
   "name": "python3"
  },
  "name": "Untitled.ipynb"
 },
 "nbformat": 4,
 "nbformat_minor": 5
}
