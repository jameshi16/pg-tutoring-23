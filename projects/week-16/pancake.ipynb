{
 "cells": [
  {
   "cell_type": "markdown",
   "metadata": {
    "collapsed": false
   },
   "source": [
    "# Pancake Sort\n",
    "\n",
    "Insert a spatula at any point `i` in the stack, flip all pancakes above it.\n",
    "\n",
    "Implement pancake sort using only flipping, which reverses the elements of the\n",
    "array between elements 0 and `i`, which is arbitrary.\n",
    "\n",
    "Goal is to sort the sequence with as few \"flips\" as possible.\n",
    "\n",
    "Algorithm needs to return the indices which flips were performed."
   ]
  },
  {
   "cell_type": "code",
   "execution_count": 1,
   "metadata": {
    "collapsed": false
   },
   "outputs": [],
   "source": [
    "def pancake_sort(arr):\n",
    "    if len(arr) <= 1:\n",
    "        return\n",
    "\n",
    "    print(\"Start:\\t\\t\", arr)\n",
    "\n",
    "    c = 1 if arr[0] > arr[1] else -1\n",
    "    i = 1\n",
    "\n",
    "    while i < len(arr):\n",
    "        while c < 0 and i < len(arr) and arr[i - 1] <= arr[i]:\n",
    "            i += 1\n",
    "\n",
    "        while c > 0 and i < len(arr) and arr[i - 1] >= arr[i]:\n",
    "            i += 1\n",
    "\n",
    "        arr = list(reversed(arr[:i])) + arr[i:]\n",
    "        print(\"Flip (k = {}):\\t\".format(i - 1), arr)\n",
    "        if i >= len(arr) - 1:\n",
    "            if c == -1:\n",
    "                arr = list(reversed(arr))\n",
    "                print(\"Flip (k = {}):\\t\".format(i), arr)\n",
    "            break\n",
    "        else:\n",
    "            i = 1\n",
    "            c = 1 if arr[0] > arr[1] else -1"
   ]
  },
  {
   "cell_type": "code",
   "execution_count": 2,
   "metadata": {
    "collapsed": false
   },
   "outputs": [
    {
     "name": "stdout",
     "output_type": "stream",
     "text": [
      "Start:\t\t [3, 2, 4, 1]\n",
      "Flip (k = 1):\t [2, 3, 4, 1]\n",
      "Flip (k = 2):\t [4, 3, 2, 1]\n",
      "Flip (k = 3):\t [1, 2, 3, 4]\n"
     ]
    }
   ],
   "source": [
    "pancake_sort([3,2,4,1])"
   ]
  },
  {
   "cell_type": "markdown",
   "metadata": {
    "collapsed": false
   },
   "source": [
    "# Applied Advanced Pancake Flipping\n",
    "\n",
    "Pancake flipping but we don't have to start from 0. This method relies on each\n",
    "element in the array having direct successors, as stated in the hint."
   ]
  },
  {
   "cell_type": "code",
   "execution_count": 3,
   "metadata": {
    "collapsed": false
   },
   "outputs": [],
   "source": [
    "def identify_segments(arr):\n",
    "    segments = []\n",
    "    i = 0\n",
    "\n",
    "    while i < len(arr) - 1:\n",
    "        start = i\n",
    "        while i < len(arr) - 1 and abs(arr[i] - arr[i + 1]) == 1:\n",
    "            i += 1\n",
    "        segments.append((start, i))\n",
    "        i += 1\n",
    "\n",
    "    if abs(arr[segments[-1][1]] - arr[-1]) == 1:\n",
    "        segments[-1][1] = i\n",
    "    elif i < len(arr) - 1:\n",
    "        segments.append((i, i))\n",
    "    return segments\n",
    "\n",
    "def adv_pancake_sort(arr):\n",
    "    if len(arr) <= 1:\n",
    "        return\n",
    "\n",
    "    steps = list()\n",
    "\n",
    "    while True:\n",
    "        segments = identify_segments(arr)\n",
    "\n",
    "        best_elimination = 0\n",
    "        best_segment = max(segments, key=lambda x: x[1] - x[0] + 1)\n",
    "\n",
    "        if (best_segment[1] - best_segment[0]) == len(arr) - 1:\n",
    "            if arr[0] > arr[1]:\n",
    "                arr = list(reversed(arr))\n",
    "            return steps\n",
    "\n",
    "        for i in range(1, len(segments)):\n",
    "            low_segment = segments[i]\n",
    "            for j in range(i, len(segments)):\n",
    "                high_segment = segments[j]\n",
    "                eliminations = 0\n",
    "\n",
    "                if abs(arr[low_segment[0] - 1] - arr[high_segment[1]]) == 1:\n",
    "                    eliminations += 1\n",
    "\n",
    "                if j < len(segments) - 1:\n",
    "                    next_segment = segments[j + 1]\n",
    "                    \n",
    "                    if abs(arr[next_segment[0]] - arr[low_segment[0]]) == 1:\n",
    "                        eliminations += 1\n",
    "\n",
    "                if eliminations > best_elimination:\n",
    "                    best_elimination = eliminations\n",
    "                    best_segment = (low_segment[0], high_segment[1])\n",
    "\n",
    "        steps.append((best_segment[0] + 1, best_segment[1] + 1))\n",
    "        arr = arr[:best_segment[0]] + \\\n",
    "            list(reversed(arr[best_segment[0]:best_segment[1] + 1])) + \\\n",
    "            arr[best_segment[1] + 1:]"
   ]
  },
  {
   "cell_type": "code",
   "execution_count": 4,
   "metadata": {
    "collapsed": false
   },
   "outputs": [
    {
     "name": "stdout",
     "output_type": "stream",
     "text": [
      "[(2, 5), (4, 9)]\n"
     ]
    }
   ],
   "source": [
    "print(adv_pancake_sort([1,8,9,3,2,7,6,5,4,10]))"
   ]
  },
  {
   "cell_type": "code",
   "execution_count": 5,
   "metadata": {
    "collapsed": false
   },
   "outputs": [
    {
     "data": {
      "text/plain": [
       "[(2, 4), (2, 7), (2, 4)]"
      ]
     },
     "execution_count": 5,
     "metadata": {},
     "output_type": "execute_result"
    }
   ],
   "source": [
    "adv_pancake_sort([1,5,6,7,2,3,4,8,9,10])"
   ]
  }
 ],
 "metadata": {
  "kernelspec": {
   "argv": [
    "python",
    "-m",
    "ipykernel_launcher",
    "-f",
    "{connection_file}"
   ],
   "display_name": "Python 3 (ipykernel)",
   "env": null,
   "interrupt_mode": "signal",
   "language": "python",
   "metadata": {
    "debugger": true
   },
   "name": "python3"
  },
  "name": "week4.ipynb"
 },
 "nbformat": 4,
 "nbformat_minor": 5
}
